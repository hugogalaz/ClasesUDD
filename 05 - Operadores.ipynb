{
 "cells": [
  {
   "cell_type": "markdown",
   "metadata": {
    "deletable": true,
    "editable": true
   },
   "source": [
    "# Operadores"
   ]
  },
  {
   "cell_type": "markdown",
   "metadata": {
    "deletable": true,
    "editable": true
   },
   "source": [
    "## Operadores Aritméticos"
   ]
  },
  {
   "cell_type": "markdown",
   "metadata": {
    "deletable": true,
    "editable": true
   },
   "source": [
    "Los operadores aritméticos que se utilizan en Python son los siguientes:\n",
    "\n",
    "\n",
    "   | Operator     | Name           | Description  |\n",
    "   |:--------:|:----------:|:-----------|\n",
    "  | a + b    | Suma       | Suma de a y b                                 |\n",
    "   | a - b    | Resta    | Resta de a y b                          |\n",
    "   | a * b    | Multiplicación | Producto de a y b                             |\n",
    "   | a / b    | División  | Cociente de a y b                            |\n",
    "| a // b   | División sin resto | Cociente de a y b, sin la parte fraccionaria |\n",
    "| a % b    | Modulo        | Resto de la división a por b     |\n",
    "| a \\*\\* b   | Potencia | \"a\" elevado a \"b\"                    |\n",
    "| -a       | Negación       | El negativo de a                                  |\n",
    "   "
   ]
  },
  {
   "cell_type": "code",
   "execution_count": 2,
   "metadata": {
    "collapsed": false,
    "deletable": true,
    "editable": true
   },
   "outputs": [
    {
     "data": {
      "text/plain": [
       "53"
      ]
     },
     "execution_count": 2,
     "metadata": {},
     "output_type": "execute_result"
    }
   ],
   "source": [
    "3+10*5"
   ]
  },
  {
   "cell_type": "code",
   "execution_count": 3,
   "metadata": {
    "collapsed": false,
    "deletable": true,
    "editable": true
   },
   "outputs": [
    {
     "data": {
      "text/plain": [
       "2.5"
      ]
     },
     "execution_count": 3,
     "metadata": {},
     "output_type": "execute_result"
    }
   ],
   "source": [
    "10/4"
   ]
  },
  {
   "cell_type": "code",
   "execution_count": 4,
   "metadata": {
    "collapsed": false,
    "deletable": true,
    "editable": true
   },
   "outputs": [
    {
     "data": {
      "text/plain": [
       "2"
      ]
     },
     "execution_count": 4,
     "metadata": {},
     "output_type": "execute_result"
    }
   ],
   "source": [
    "10//4"
   ]
  },
  {
   "cell_type": "code",
   "execution_count": 5,
   "metadata": {
    "collapsed": false,
    "deletable": true,
    "editable": true
   },
   "outputs": [
    {
     "data": {
      "text/plain": [
       "1"
      ]
     },
     "execution_count": 5,
     "metadata": {},
     "output_type": "execute_result"
    }
   ],
   "source": [
    "10%3 # división Modular. Entrega el resto de la división"
   ]
  },
  {
   "cell_type": "markdown",
   "metadata": {
    "deletable": true,
    "editable": true
   },
   "source": [
    "## Operadores Lógicos"
   ]
  },
  {
   "cell_type": "markdown",
   "metadata": {
    "deletable": true,
    "editable": true
   },
   "source": [
    "Los operadores de comparación se usan para evaluar expresiones que solo pueden tener como resultado **Verdadero** o **Falso** (true o false). Dichos operadores son:"
   ]
  },
  {
   "cell_type": "markdown",
   "metadata": {
    "deletable": true,
    "editable": true
   },
   "source": [
    "|OPERADOR | DESCRIPCION |\n",
    "|:------:|:------:|\n",
    "|== | evalúa como verdadero si 2 variables son iguales|\n",
    "|!= |evalúa como verdadero si 2 variables son diferentes|\n",
    "|<> | lo mismo que !=|\n",
    "|> | verdadero si el operador a la izquierda es mayor que el de la derecha|\n",
    "|< | verdadero si el operador a la izquierda es menor que el de la derecha|\n",
    "|>= | verdadero si el operador a la izquierda es mayor o igual al de la derecha|\n",
    "|<= | verdadero si el operador a la izquierda es menor o igual al de la derecha|\n"
   ]
  },
  {
   "cell_type": "code",
   "execution_count": 6,
   "metadata": {
    "collapsed": false,
    "deletable": true,
    "editable": true
   },
   "outputs": [
    {
     "data": {
      "text/plain": [
       "True"
      ]
     },
     "execution_count": 6,
     "metadata": {},
     "output_type": "execute_result"
    }
   ],
   "source": [
    "5<10"
   ]
  },
  {
   "cell_type": "code",
   "execution_count": 7,
   "metadata": {
    "collapsed": false,
    "deletable": true,
    "editable": true
   },
   "outputs": [
    {
     "data": {
      "text/plain": [
       "False"
      ]
     },
     "execution_count": 7,
     "metadata": {},
     "output_type": "execute_result"
    }
   ],
   "source": [
    "3!=3"
   ]
  },
  {
   "cell_type": "markdown",
   "metadata": {
    "deletable": true,
    "editable": true
   },
   "source": [
    "## Operadores de Asignación"
   ]
  },
  {
   "cell_type": "markdown",
   "metadata": {
    "deletable": true,
    "editable": true
   },
   "source": [
    "Los operadores de asignación son utilizados para asignarle valor a las variables.\n",
    "\n",
    "|    Operador    |                       Ejemplo                      |\n",
    "|:--------------:|:--------------------------------------------------:|\n",
    "|    =           |    c = a + b (se asigna el valor de a + b en c)    |\n",
    "|    +=          |    c += a es lo mismo que c = c + a                |\n",
    "|    -=          |    c -= a es lo mismo que c = c - a                |\n",
    "|    *=          |    c *= a es lo mismo que c = c * a                |\n",
    "|    /=          |    c /= a es lo mismo que c = c / a                |\n",
    "|    %=          |    c %=a es lo mismo que c = c % a                |\n",
    "|    \\*\\*=         |    c \\*\\*= a es lo mismo que c = c \\*\\* a            |\n",
    "|    //=         |    c //= a es lo mismo que c = c // a              |"
   ]
  },
  {
   "cell_type": "markdown",
   "metadata": {
    "deletable": true,
    "editable": true
   },
   "source": [
    "## Operadores Lógicos"
   ]
  },
  {
   "cell_type": "markdown",
   "metadata": {
    "deletable": true,
    "editable": true
   },
   "source": [
    "|    Operador    |    Descripción                                                  |    Ejemplo                   |\n",
    "|:----------------:|-----------------------------------------------------------------|:------------------------------:|\n",
    "|    **and**         |    Es verdadero (True) si ambos operadores son verdaderos       |    (a and b) es True         |\n",
    "|    **or**          |    Es verdadero (True) si uno de los operadores es verdadero    |    (a or b) es True          |\n",
    "|    **not**         |    Es verdadero (True) si el operador es falso                  |    not (a and b) es False    |"
   ]
  },
  {
   "cell_type": "code",
   "execution_count": 8,
   "metadata": {
    "collapsed": false,
    "deletable": true,
    "editable": true
   },
   "outputs": [
    {
     "data": {
      "text/plain": [
       "True"
      ]
     },
     "execution_count": 8,
     "metadata": {},
     "output_type": "execute_result"
    }
   ],
   "source": [
    "True and True"
   ]
  },
  {
   "cell_type": "code",
   "execution_count": 9,
   "metadata": {
    "collapsed": false,
    "deletable": true,
    "editable": true
   },
   "outputs": [
    {
     "data": {
      "text/plain": [
       "True"
      ]
     },
     "execution_count": 9,
     "metadata": {},
     "output_type": "execute_result"
    }
   ],
   "source": [
    "True or False"
   ]
  },
  {
   "cell_type": "code",
   "execution_count": 10,
   "metadata": {
    "collapsed": false,
    "deletable": true,
    "editable": true
   },
   "outputs": [
    {
     "data": {
      "text/plain": [
       "False"
      ]
     },
     "execution_count": 10,
     "metadata": {},
     "output_type": "execute_result"
    }
   ],
   "source": [
    "not True"
   ]
  },
  {
   "cell_type": "code",
   "execution_count": null,
   "metadata": {
    "collapsed": true,
    "deletable": true,
    "editable": true
   },
   "outputs": [],
   "source": []
  }
 ],
 "metadata": {
  "celltoolbar": "Raw Cell Format",
  "kernelspec": {
   "display_name": "Python 3",
   "language": "python",
   "name": "python3"
  },
  "language_info": {
   "codemirror_mode": {
    "name": "ipython",
    "version": 3
   },
   "file_extension": ".py",
   "mimetype": "text/x-python",
   "name": "python",
   "nbconvert_exporter": "python",
   "pygments_lexer": "ipython3",
   "version": "3.6.0"
  }
 },
 "nbformat": 4,
 "nbformat_minor": 2
}
