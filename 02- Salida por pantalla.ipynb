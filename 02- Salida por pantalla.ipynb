{
 "cells": [
  {
   "cell_type": "markdown",
   "metadata": {},
   "source": [
    "Recopilado desde http://www.mclibre.org/consultar/python/lecciones/python_salida_pantalla.html\n",
    "\n",
    "# La función print()\n",
    "\n",
    "En los programa, para mostrar texto o variables hay que utilizar la función print().\n",
    "La función print() permite mostrar texto en pantalla, el cual puede estar delimitado por comillas dobles **(\" \")** como por comillas simples **(' ')**.\n",
    "\n",
    "El texto a mostrar se escribe como argumento de la función:"
   ]
  },
  {
   "cell_type": "code",
   "execution_count": 1,
   "metadata": {
    "collapsed": false
   },
   "outputs": [
    {
     "name": "stdout",
     "output_type": "stream",
     "text": [
      "Hola\n",
      "Qué tal?\n"
     ]
    }
   ],
   "source": [
    "print(\"Hola\")\n",
    "print('Qué tal?')"
   ]
  },
  {
   "cell_type": "markdown",
   "metadata": {},
   "source": [
    "Al final de cada print(), Python añade automáticamente un salto de línea\n",
    "\n",
    "La función print() admite varios argumentos seguidos, ls cuales deben separarse por comas. Los argumentos se muestran en el mismo orden y en la misma línea, separados por espacios:"
   ]
  },
  {
   "cell_type": "code",
   "execution_count": 2,
   "metadata": {
    "collapsed": false
   },
   "outputs": [
    {
     "name": "stdout",
     "output_type": "stream",
     "text": [
      "Hola Adios\n"
     ]
    }
   ],
   "source": [
    "print(\"Hola\", \"Adios\")"
   ]
  },
  {
   "cell_type": "markdown",
   "metadata": {},
   "source": [
    "Para generar una línea en blanco, se puede escribir una orden print() sin argumentos."
   ]
  },
  {
   "cell_type": "code",
   "execution_count": 3,
   "metadata": {
    "collapsed": false
   },
   "outputs": [
    {
     "name": "stdout",
     "output_type": "stream",
     "text": [
      "Hola\n",
      "\n",
      "Adios\n"
     ]
    }
   ],
   "source": [
    "print(\"Hola\")\n",
    "print()\n",
    "print(\"Adios\")"
   ]
  },
  {
   "cell_type": "markdown",
   "metadata": {},
   "source": [
    "Si no se quiere que Python añada un salto de línea al final de un print(), se debe añadir al final el argumento **end=\"\"**:"
   ]
  },
  {
   "cell_type": "code",
   "execution_count": 4,
   "metadata": {
    "collapsed": false
   },
   "outputs": [
    {
     "name": "stdout",
     "output_type": "stream",
     "text": [
      "HolaAdios\n"
     ]
    }
   ],
   "source": [
    "print(\"Hola\", end=\"\")\n",
    "print(\"Adios\")"
   ]
  },
  {
   "cell_type": "markdown",
   "metadata": {},
   "source": [
    "En el ejemplo anterior, las dos cadenas se muestran pegadas. Si se quieren separar los argumentos en la salida, hay que incluir los espacios deseados (puede ser directamente en la cadena, o bien en el argumento end):"
   ]
  },
  {
   "cell_type": "code",
   "execution_count": 5,
   "metadata": {
    "collapsed": false
   },
   "outputs": [
    {
     "name": "stdout",
     "output_type": "stream",
     "text": [
      "Hola. Adios\n"
     ]
    }
   ],
   "source": [
    "print(\"Hola. \", end=\"\")\n",
    "print(\"Adios\")"
   ]
  },
  {
   "cell_type": "code",
   "execution_count": 6,
   "metadata": {
    "collapsed": false
   },
   "outputs": [
    {
     "name": "stdout",
     "output_type": "stream",
     "text": [
      "Hola. Adios\n"
     ]
    }
   ],
   "source": [
    "print(\"Hola.\", end=\" \")\n",
    "print(\"Adios\")"
   ]
  },
  {
   "cell_type": "markdown",
   "metadata": {},
   "source": [
    "Para incluir comillas dentro de comillas que delimitan un texto, se puede realiar lo siguiente:\n",
    "* Escribir una contrabarra (\\) antes de la comilla"
   ]
  },
  {
   "cell_type": "code",
   "execution_count": 8,
   "metadata": {
    "collapsed": false
   },
   "outputs": [
    {
     "name": "stdout",
     "output_type": "stream",
     "text": [
      "Un amigo le dice a otro: \"¿Cómo estás?\"\n",
      "Y el otro le contesta: '¡Mas o menos!'\n"
     ]
    }
   ],
   "source": [
    "print(\"Un amigo le dice a otro: \\\"¿Cómo estás?\\\"\")\n",
    "print('Y el otro le contesta: \\'¡Mas o menos!\\'')"
   ]
  },
  {
   "cell_type": "markdown",
   "metadata": {},
   "source": [
    "* O escribir comillas distintas a las utilizadas como delimitador de la cadena:"
   ]
  },
  {
   "cell_type": "code",
   "execution_count": 9,
   "metadata": {
    "collapsed": false
   },
   "outputs": [
    {
     "name": "stdout",
     "output_type": "stream",
     "text": [
      "Un amigo le dice a otro: \"¿Cómo estás?\"\n",
      "Y el otro le contesta: '¡Mas o menos!'\n"
     ]
    }
   ],
   "source": [
    "print('Un amigo le dice a otro: \"¿Cómo estás?\"')\n",
    "print(\"Y el otro le contesta: '¡Mas o menos!'\")"
   ]
  },
  {
   "cell_type": "markdown",
   "metadata": {},
   "source": [
    "La función print() permite incluir variables o expresiones como argmento, lo que nos permite combinar texto y variables:"
   ]
  },
  {
   "cell_type": "code",
   "execution_count": 10,
   "metadata": {
    "collapsed": false
   },
   "outputs": [
    {
     "name": "stdout",
     "output_type": "stream",
     "text": [
      "Me llamo Pepe y tengo 25 años.\n"
     ]
    }
   ],
   "source": [
    "nombre = \"Pepe\"\n",
    "edad = 25\n",
    "print(\"Me llamo\", nombre, \"y tengo\", edad, \"años.\")"
   ]
  },
  {
   "cell_type": "markdown",
   "metadata": {},
   "source": [
    "Se puede forzar que las variables se escriban como enteros o decimales, utilizando las funciones int() o float(), respectivamente."
   ]
  },
  {
   "cell_type": "code",
   "execution_count": 12,
   "metadata": {
    "collapsed": false
   },
   "outputs": [
    {
     "name": "stdout",
     "output_type": "stream",
     "text": [
      "2\n"
     ]
    }
   ],
   "source": [
    "print(int(2.9))"
   ]
  },
  {
   "cell_type": "code",
   "execution_count": 13,
   "metadata": {
    "collapsed": false
   },
   "outputs": [
    {
     "name": "stdout",
     "output_type": "stream",
     "text": [
      "2.0\n"
     ]
    }
   ],
   "source": [
    "print(float(2))"
   ]
  },
  {
   "cell_type": "markdown",
   "metadata": {},
   "source": [
    "La función print() muestra los argumentos separados por espacios, lo que a veces no es conveniente . \n",
    "\n",
    "En el ejemplo siguiente el signo de exclamación se muestra separado de la palabra."
   ]
  },
  {
   "cell_type": "code",
   "execution_count": 14,
   "metadata": {
    "collapsed": false
   },
   "outputs": [
    {
     "name": "stdout",
     "output_type": "stream",
     "text": [
      "¡Hola, Pepe !\n"
     ]
    }
   ],
   "source": [
    "nombre = \"Pepe\"\n",
    "print(\"¡Hola,\", nombre, \"!\")"
   ]
  },
  {
   "cell_type": "markdown",
   "metadata": {},
   "source": [
    "Para eliminar ese espacio, se puede reducir el número de argumentos, concatenando texto y variables con el operador suma (+):"
   ]
  },
  {
   "cell_type": "code",
   "execution_count": 15,
   "metadata": {
    "collapsed": false
   },
   "outputs": [
    {
     "name": "stdout",
     "output_type": "stream",
     "text": [
      "¡Hola, Pepe!\n",
      "¡Hola, Pepe!\n"
     ]
    }
   ],
   "source": [
    "nombre = \"Pepe\"\n",
    "print(\"¡Hola,\", nombre + \"!\")\n",
    "print(\"¡Hola, \" + nombre + \"!\")"
   ]
  },
  {
   "cell_type": "markdown",
   "metadata": {},
   "source": [
    "Pero hay que tener cuidado, porque no se pueden concatenar cadenas y números con el operador suma (+):"
   ]
  },
  {
   "cell_type": "code",
   "execution_count": 16,
   "metadata": {
    "collapsed": false
   },
   "outputs": [
    {
     "ename": "TypeError",
     "evalue": "must be str, not int",
     "output_type": "error",
     "traceback": [
      "\u001b[0;31m---------------------------------------------------------------------------\u001b[0m",
      "\u001b[0;31mTypeError\u001b[0m                                 Traceback (most recent call last)",
      "\u001b[0;32m<ipython-input-16-6bcd60179ee2>\u001b[0m in \u001b[0;36m<module>\u001b[0;34m()\u001b[0m\n\u001b[1;32m      1\u001b[0m \u001b[0mfecha\u001b[0m \u001b[1;33m=\u001b[0m \u001b[1;36m2017\u001b[0m\u001b[1;33m\u001b[0m\u001b[0m\n\u001b[0;32m----> 2\u001b[0;31m \u001b[0mprint\u001b[0m\u001b[1;33m(\u001b[0m\u001b[1;34m\"¡Feliz \"\u001b[0m \u001b[1;33m+\u001b[0m \u001b[0mfecha\u001b[0m \u001b[1;33m+\u001b[0m \u001b[1;34m\"!\"\u001b[0m\u001b[1;33m)\u001b[0m\u001b[1;33m\u001b[0m\u001b[0m\n\u001b[0m",
      "\u001b[0;31mTypeError\u001b[0m: must be str, not int"
     ]
    }
   ],
   "source": [
    "fecha = 2017\n",
    "print(\"¡Feliz \" + fecha + \"!\")"
   ]
  },
  {
   "cell_type": "markdown",
   "metadata": {},
   "source": [
    "En este caso, hay que convertir los números a cadenas con la función str() antes de concatenarlos:"
   ]
  },
  {
   "cell_type": "code",
   "execution_count": 18,
   "metadata": {
    "collapsed": false
   },
   "outputs": [
    {
     "name": "stdout",
     "output_type": "stream",
     "text": [
      "¡Feliz 2017 !\n",
      "¡Feliz 2017!\n",
      "¡Feliz 2017!\n"
     ]
    }
   ],
   "source": [
    "fecha = 2017\n",
    "print(\"¡Feliz\", fecha, \"!\")\n",
    "print(\"¡Feliz\", str(fecha) + \"!\")\n",
    "print(\"¡Feliz \" + str(fecha) + \"!\")"
   ]
  },
  {
   "cell_type": "markdown",
   "metadata": {},
   "source": [
    "### Cadenas \"f\"\n",
    "\n",
    "En Python 3.6 se ha añadido una nueva notación para cadenas llamada cadenas \"f\", que simplifica la inserción de variables y expresiones en las cadenas. \n",
    "\n",
    "Una cadena \"f\" contiene variables y expresiones entre llaves ({}) que se sustituyen directamente por su valor, y se reconocen porque comienzan por una letra f antes de las comillas de apertura."
   ]
  },
  {
   "cell_type": "code",
   "execution_count": 19,
   "metadata": {
    "collapsed": false
   },
   "outputs": [
    {
     "name": "stdout",
     "output_type": "stream",
     "text": [
      "Me llamo Pepe y tengo 25 años.\n"
     ]
    }
   ],
   "source": [
    "nombre = \"Pepe\"\n",
    "edad = 25\n",
    "print(f\"Me llamo {nombre} y tengo {edad} años.\")"
   ]
  },
  {
   "cell_type": "markdown",
   "metadata": {},
   "source": [
    "Si se quieren escribir los carácteres **{** o **}** se deben escribir duplicados."
   ]
  },
  {
   "cell_type": "code",
   "execution_count": 20,
   "metadata": {
    "collapsed": false
   },
   "outputs": [
    {
     "name": "stdout",
     "output_type": "stream",
     "text": [
      "Si escribe {nombre} se escribirá el valor de la variable nombre, en este caso Pepe.\n"
     ]
    }
   ],
   "source": [
    "nombre = \"Pepe\"\n",
    "edad = 25\n",
    "print(f\"Si escribe {{nombre}} se escribirá el valor de la variable nombre, \"\n",
    "      f\"en este caso {nombre}.\")"
   ]
  },
  {
   "cell_type": "code",
   "execution_count": null,
   "metadata": {
    "collapsed": true
   },
   "outputs": [],
   "source": []
  }
 ],
 "metadata": {
  "kernelspec": {
   "display_name": "Python 3",
   "language": "python",
   "name": "python3"
  },
  "language_info": {
   "codemirror_mode": {
    "name": "ipython",
    "version": 3
   },
   "file_extension": ".py",
   "mimetype": "text/x-python",
   "name": "python",
   "nbconvert_exporter": "python",
   "pygments_lexer": "ipython3",
   "version": "3.6.0"
  }
 },
 "nbformat": 4,
 "nbformat_minor": 2
}
