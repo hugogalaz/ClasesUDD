{
 "cells": [
  {
   "cell_type": "markdown",
   "metadata": {},
   "source": [
    "(recopilado de http://www.mclibre.org/consultar/python/lecciones/python_entrada_teclado.html)\n",
    "\n",
    "# La función input()\n",
    "\n",
    "La función input() permite obtener texto escrito en el teclado por el usuario. El programa, al detectar esta función, se queda esperando a que se escriba algo y se pulse la tecla Enter. Un ejemplo de esto se ve en el siguiente ejemplo:"
   ]
  },
  {
   "cell_type": "code",
   "execution_count": 1,
   "metadata": {
    "collapsed": false
   },
   "outputs": [
    {
     "name": "stdout",
     "output_type": "stream",
     "text": [
      "¿Cómo se llama?\n",
      "Usuario\n",
      "Me alegro de conocerle, Usuario\n"
     ]
    }
   ],
   "source": [
    "print(\"¿Cómo se llama?\")\n",
    "nombre = input()\n",
    "print(\"Me alegro de conocerle,\", nombre)"
   ]
  },
  {
   "cell_type": "markdown",
   "metadata": {},
   "source": [
    "En el ejemplo anterior, el usuario escribe su respuesta en una línea distinta a la pregunta porque Python añade un salto de línea al final de cada print().\n",
    "\n",
    "\n",
    "&nbsp;Si se prefiere que el usuario escriba su respuesta a continuación de la pregunta, se podría utilizar el argumento opcional **end** en la función **print()**, que indica el carácter o caracteres a utilizar en vez del salto de línea. \n",
    "\n",
    "&nbsp;Para separar la respuesta de la pregunta se ha añadido un espacio al final de la pregunta."
   ]
  },
  {
   "cell_type": "code",
   "execution_count": 2,
   "metadata": {
    "collapsed": false
   },
   "outputs": [
    {
     "name": "stdout",
     "output_type": "stream",
     "text": [
      "¿Cómo se llama? Usuario\n",
      "Me alegro de conocerle, Usuario\n"
     ]
    }
   ],
   "source": [
    "print(\"¿Cómo se llama? \", end=\"\")\n",
    "nombre = input()\n",
    "print(\"Me alegro de conocerle,\", nombre)"
   ]
  },
  {
   "cell_type": "markdown",
   "metadata": {},
   "source": [
    "Otra solución, más compacta, es aprovechar que a la función input() se le puede enviar un argumento que se escribe en la pantalla (sin añadir un salto de línea):"
   ]
  },
  {
   "cell_type": "code",
   "execution_count": 3,
   "metadata": {
    "collapsed": false
   },
   "outputs": [
    {
     "name": "stdout",
     "output_type": "stream",
     "text": [
      "¿Cómo se llama? Usuario\n",
      "Me alegro de conocerle, Usuario\n"
     ]
    }
   ],
   "source": [
    "nombre = input(\"¿Cómo se llama? \")\n",
    "print(\"Me alegro de conocerle,\", nombre)"
   ]
  },
  {
   "cell_type": "markdown",
   "metadata": {},
   "source": [
    "\n",
    "&nbsp;\n",
    "# Conversión de tipos\n",
    "\n",
    "De forma predeterminada, la función input() convierte la entrada en una cadena. Si se quiere que Python interprete la entrada como un número entero, se debe utilizar la función int() de la siguiente manera:"
   ]
  },
  {
   "cell_type": "code",
   "execution_count": 4,
   "metadata": {
    "collapsed": false
   },
   "outputs": [
    {
     "name": "stdout",
     "output_type": "stream",
     "text": [
      "Ingrese cantidad de Dolares: 100\n",
      "Valor Dolar: 680\n",
      "100 dolares son 68000 pesos\n"
     ]
    }
   ],
   "source": [
    "cantidad = int(input(\"Ingrese cantidad de Dolares: \"))\n",
    "dolar= int(input(\"Valor Dolar: \"))\n",
    "print(cantidad, \"dolares son\", cantidad * dolar, \"pesos\")"
   ]
  },
  {
   "cell_type": "markdown",
   "metadata": {},
   "source": [
    "Si se trabaja con valores decimales, el ejemplo anterior debe adaptrase al tipo de dato **float**:"
   ]
  },
  {
   "cell_type": "code",
   "execution_count": 6,
   "metadata": {
    "collapsed": false
   },
   "outputs": [
    {
     "name": "stdout",
     "output_type": "stream",
     "text": [
      "Ingrese cantidad de Dolares: 100.5\n",
      "Valor Dolar: 680\n",
      "100.5 dolares son 68340.0 pesos\n"
     ]
    }
   ],
   "source": [
    "cantidad = float(input(\"Ingrese cantidad de Dolares: \"))\n",
    "dolar= int(input(\"Valor Dolar: \"))\n",
    "print(cantidad, \"dolares son\", cantidad * dolar, \"pesos\")"
   ]
  },
  {
   "cell_type": "markdown",
   "metadata": {},
   "source": [
    "Si no se respetan los tipos de datos de las variables de entrada, se producen errores. Si tomamamos el primer ejemplo e ingresamos un valor con decimales, se produciria un error como el siguiente:"
   ]
  },
  {
   "cell_type": "code",
   "execution_count": 7,
   "metadata": {
    "collapsed": false
   },
   "outputs": [
    {
     "name": "stdout",
     "output_type": "stream",
     "text": [
      "Ingrese cantidad de Dolares: 100.5\n"
     ]
    },
    {
     "ename": "ValueError",
     "evalue": "invalid literal for int() with base 10: '100.5'",
     "output_type": "error",
     "traceback": [
      "\u001b[0;31m---------------------------------------------------------------------------\u001b[0m",
      "\u001b[0;31mValueError\u001b[0m                                Traceback (most recent call last)",
      "\u001b[0;32m<ipython-input-7-0f9e50e8246d>\u001b[0m in \u001b[0;36m<module>\u001b[0;34m()\u001b[0m\n\u001b[0;32m----> 1\u001b[0;31m \u001b[0mcantidad\u001b[0m \u001b[1;33m=\u001b[0m \u001b[0mint\u001b[0m\u001b[1;33m(\u001b[0m\u001b[0minput\u001b[0m\u001b[1;33m(\u001b[0m\u001b[1;34m\"Ingrese cantidad de Dolares: \"\u001b[0m\u001b[1;33m)\u001b[0m\u001b[1;33m)\u001b[0m\u001b[1;33m\u001b[0m\u001b[0m\n\u001b[0m\u001b[1;32m      2\u001b[0m \u001b[0mdolar\u001b[0m\u001b[1;33m=\u001b[0m \u001b[0mint\u001b[0m\u001b[1;33m(\u001b[0m\u001b[0minput\u001b[0m\u001b[1;33m(\u001b[0m\u001b[1;34m\"Valor Dolar: \"\u001b[0m\u001b[1;33m)\u001b[0m\u001b[1;33m)\u001b[0m\u001b[1;33m\u001b[0m\u001b[0m\n\u001b[1;32m      3\u001b[0m \u001b[0mprint\u001b[0m\u001b[1;33m(\u001b[0m\u001b[0mcantidad\u001b[0m\u001b[1;33m,\u001b[0m \u001b[1;34m\"dolares son\"\u001b[0m\u001b[1;33m,\u001b[0m \u001b[0mcantidad\u001b[0m \u001b[1;33m*\u001b[0m \u001b[0mdolar\u001b[0m\u001b[1;33m,\u001b[0m \u001b[1;34m\"pesos\"\u001b[0m\u001b[1;33m)\u001b[0m\u001b[1;33m\u001b[0m\u001b[0m\n",
      "\u001b[0;31mValueError\u001b[0m: invalid literal for int() with base 10: '100.5'"
     ]
    }
   ],
   "source": [
    "cantidad = int(input(\"Ingrese cantidad de Dolares: \"))\n",
    "dolar= int(input(\"Valor Dolar: \"))\n",
    "print(cantidad, \"dolares son\", cantidad * dolar, \"pesos\")"
   ]
  },
  {
   "cell_type": "markdown",
   "metadata": {},
   "source": [
    "Esto se produce al ingresar un valor con decimales **(100.5)** teniendo una conversión de tipo **int**"
   ]
  },
  {
   "cell_type": "markdown",
   "metadata": {},
   "source": [
    "Esto no ocurre al ingresar un entero en una variable definida para recibir un valor real (con decimales). Lo único es que se representará con un decimal"
   ]
  },
  {
   "cell_type": "code",
   "execution_count": 8,
   "metadata": {
    "collapsed": false
   },
   "outputs": [
    {
     "name": "stdout",
     "output_type": "stream",
     "text": [
      "Ingrese su peso en kg: 80\n",
      "Su peso es 80.0 kg\n"
     ]
    }
   ],
   "source": [
    "peso = float(input(\"Ingrese su peso en kg: \"))\n",
    "print(\"Su peso es\", peso, \"kg\")"
   ]
  },
  {
   "cell_type": "markdown",
   "metadata": {},
   "source": [
    "# Variables como argumento de la función input()\n",
    "\n",
    "La función input() sólo puede tener un argumento.\n",
    "\n",
    "Esto puede causar problemas como en el ejemplo siguiente, en el que se quiere mostrar la respuesta de la primera instrucción en la segunda pregunta:"
   ]
  },
  {
   "cell_type": "code",
   "execution_count": 9,
   "metadata": {
    "collapsed": false
   },
   "outputs": [
    {
     "name": "stdout",
     "output_type": "stream",
     "text": [
      "Dígame su nombre: Juan\n"
     ]
    },
    {
     "ename": "TypeError",
     "evalue": "raw_input() takes from 1 to 2 positional arguments but 4 were given",
     "output_type": "error",
     "traceback": [
      "\u001b[0;31m---------------------------------------------------------------------------\u001b[0m",
      "\u001b[0;31mTypeError\u001b[0m                                 Traceback (most recent call last)",
      "\u001b[0;32m<ipython-input-9-edad091fafbc>\u001b[0m in \u001b[0;36m<module>\u001b[0;34m()\u001b[0m\n\u001b[1;32m      1\u001b[0m \u001b[0mnombre\u001b[0m \u001b[1;33m=\u001b[0m \u001b[0minput\u001b[0m\u001b[1;33m(\u001b[0m\u001b[1;34m\"Dígame su nombre: \"\u001b[0m\u001b[1;33m)\u001b[0m\u001b[1;33m\u001b[0m\u001b[0m\n\u001b[0;32m----> 2\u001b[0;31m \u001b[0mapellido\u001b[0m \u001b[1;33m=\u001b[0m \u001b[0minput\u001b[0m\u001b[1;33m(\u001b[0m\u001b[1;34m\"Dígame su apellido, \"\u001b[0m\u001b[1;33m,\u001b[0m \u001b[0mnombre\u001b[0m\u001b[1;33m,\u001b[0m \u001b[1;34m\": \"\u001b[0m\u001b[1;33m)\u001b[0m\u001b[1;33m\u001b[0m\u001b[0m\n\u001b[0m\u001b[1;32m      3\u001b[0m \u001b[0mprint\u001b[0m\u001b[1;33m(\u001b[0m\u001b[1;34m\"Me alegro de conocerle,\"\u001b[0m\u001b[1;33m,\u001b[0m \u001b[0mnombre\u001b[0m\u001b[1;33m,\u001b[0m \u001b[0mapellido\u001b[0m\u001b[1;33m)\u001b[0m\u001b[1;33m\u001b[0m\u001b[0m\n",
      "\u001b[0;31mTypeError\u001b[0m: raw_input() takes from 1 to 2 positional arguments but 4 were given"
     ]
    }
   ],
   "source": [
    "nombre = input(\"Dígame su nombre: \")\n",
    "apellido = input(\"Dígame su apellido, \", nombre, \": \")\n",
    "print(\"Me alegro de conocerle,\", nombre, apellido)"
   ]
  },
  {
   "cell_type": "markdown",
   "metadata": {},
   "source": [
    "Este problema se puede resolver de varias maneras:\n",
    "* Una solución consiste en separar la pregunta de la recogida de la respuesta, escribiendo dos instrucciones:"
   ]
  },
  {
   "cell_type": "code",
   "execution_count": 10,
   "metadata": {
    "collapsed": false
   },
   "outputs": [
    {
     "name": "stdout",
     "output_type": "stream",
     "text": [
      "Dígame su nombre: James\n",
      "Dígame su apellido, James : Bond\n",
      "Me alegro de conocerle, James Bond\n"
     ]
    }
   ],
   "source": [
    "nombre = input(\"Dígame su nombre: \")\n",
    "print(\"Dígame su apellido,\", nombre, \": \", end=\"\")\n",
    "apellido = input()\n",
    "print(\"Me alegro de conocerle,\", nombre, apellido)"
   ]
  },
  {
   "cell_type": "markdown",
   "metadata": {},
   "source": [
    "Si se quiere que los dos puntos **(:)** salgan pegados al nombre habría que utilizar la concatenación (operador +):"
   ]
  },
  {
   "cell_type": "code",
   "execution_count": 11,
   "metadata": {
    "collapsed": false
   },
   "outputs": [
    {
     "name": "stdout",
     "output_type": "stream",
     "text": [
      "Dígame su nombre: James\n",
      "Dígame su apellido, James: Bond\n",
      "Me alegro de conocerle, James Bond\n"
     ]
    }
   ],
   "source": [
    "nombre = input(\"Dígame su nombre: \")\n",
    "print(\"Dígame su apellido,\", nombre + \": \", end=\"\")\n",
    "apellido = input()\n",
    "print(\"Me alegro de conocerle,\", nombre, apellido)"
   ]
  },
  {
   "cell_type": "markdown",
   "metadata": {},
   "source": [
    "* Otra solución que permite incluir la pregunta en la recogida de la respuesta es utilizar la concatenación (operador +):"
   ]
  },
  {
   "cell_type": "code",
   "execution_count": 12,
   "metadata": {
    "collapsed": false
   },
   "outputs": [
    {
     "name": "stdout",
     "output_type": "stream",
     "text": [
      "Dígame su nombre: Super\n",
      "Dígame su apellido, Super: Man\n",
      "Me alegro de conocerle, Super Man\n"
     ]
    }
   ],
   "source": [
    "nombre = input(\"Dígame su nombre: \")\n",
    "apellido = input(\"Dígame su apellido, \" + nombre +  \": \")\n",
    "print(\"Me alegro de conocerle,\", nombre, apellido)"
   ]
  },
  {
   "cell_type": "markdown",
   "metadata": {},
   "source": [
    "Si se opta por esta solución, hay que tener en cuenta que, en caso de querer concatenar cadenas y números, se debe utilizar la función **str()**, como se ha comentado en el apartado anterior:"
   ]
  },
  {
   "cell_type": "markdown",
   "metadata": {},
   "source": [
    "* Código con Error"
   ]
  },
  {
   "cell_type": "code",
   "execution_count": 13,
   "metadata": {
    "collapsed": false
   },
   "outputs": [
    {
     "name": "stdout",
     "output_type": "stream",
     "text": [
      "Dígame un número: 10\n"
     ]
    },
    {
     "ename": "TypeError",
     "evalue": "must be str, not int",
     "output_type": "error",
     "traceback": [
      "\u001b[0;31m---------------------------------------------------------------------------\u001b[0m",
      "\u001b[0;31mTypeError\u001b[0m                                 Traceback (most recent call last)",
      "\u001b[0;32m<ipython-input-13-857f5d121176>\u001b[0m in \u001b[0;36m<module>\u001b[0;34m()\u001b[0m\n\u001b[1;32m      1\u001b[0m \u001b[0mnumero1\u001b[0m \u001b[1;33m=\u001b[0m \u001b[0mint\u001b[0m\u001b[1;33m(\u001b[0m\u001b[0minput\u001b[0m\u001b[1;33m(\u001b[0m\u001b[1;34m\"Dígame un número: \"\u001b[0m\u001b[1;33m)\u001b[0m\u001b[1;33m)\u001b[0m\u001b[1;33m\u001b[0m\u001b[0m\n\u001b[0;32m----> 2\u001b[0;31m \u001b[0mnumero2\u001b[0m \u001b[1;33m=\u001b[0m \u001b[0mint\u001b[0m\u001b[1;33m(\u001b[0m\u001b[0minput\u001b[0m\u001b[1;33m(\u001b[0m\u001b[1;34m\"Dígame un número mayor que \"\u001b[0m \u001b[1;33m+\u001b[0m \u001b[0mnumero1\u001b[0m \u001b[1;33m+\u001b[0m  \u001b[1;34m\": \"\u001b[0m\u001b[1;33m)\u001b[0m\u001b[1;33m)\u001b[0m\u001b[1;33m\u001b[0m\u001b[0m\n\u001b[0m\u001b[1;32m      3\u001b[0m \u001b[0mprint\u001b[0m\u001b[1;33m(\u001b[0m\u001b[1;34m\"La diferencia entre ellos es\"\u001b[0m\u001b[1;33m,\u001b[0m \u001b[0mnumero2\u001b[0m \u001b[1;33m-\u001b[0m \u001b[0mnumero1\u001b[0m\u001b[1;33m)\u001b[0m\u001b[1;33m\u001b[0m\u001b[0m\n",
      "\u001b[0;31mTypeError\u001b[0m: must be str, not int"
     ]
    }
   ],
   "source": [
    "numero1 = int(input(\"Dígame un número: \"))\n",
    "numero2 = int(input(\"Dígame un número mayor que \" + numero1 +  \": \"))\n",
    "print(\"La diferencia entre ellos es\", numero2 - numero1)"
   ]
  },
  {
   "cell_type": "markdown",
   "metadata": {},
   "source": [
    "El error se debe a que el comando **+** solo se puede ocupar para concatenar cadenas de texto y **numero1** es una variable de tipo entera."
   ]
  },
  {
   "cell_type": "markdown",
   "metadata": {},
   "source": [
    "* Código corregido"
   ]
  },
  {
   "cell_type": "code",
   "execution_count": 14,
   "metadata": {
    "collapsed": false
   },
   "outputs": [
    {
     "name": "stdout",
     "output_type": "stream",
     "text": [
      "Dígame un número: 10\n",
      "Dígame un número mayor que 10: 20\n",
      "La diferencia entre ellos es 10\n"
     ]
    }
   ],
   "source": [
    "numero1 = int(input(\"Dígame un número: \"))\n",
    "numero2 = int(input(\"Dígame un número mayor que \" + str(numero1) +  \": \"))\n",
    "print(\"La diferencia entre ellos es\", numero2 - numero1)"
   ]
  },
  {
   "cell_type": "markdown",
   "metadata": {},
   "source": [
    "* Otra solución es utilizar las cadenas **\" f \"** introducidas en Python 3.6:"
   ]
  },
  {
   "cell_type": "code",
   "execution_count": 15,
   "metadata": {
    "collapsed": false
   },
   "outputs": [
    {
     "name": "stdout",
     "output_type": "stream",
     "text": [
      "Dígame su nombre: Elba\n",
      "Dígame su apellido, Elba: Lazo\n",
      "Me alegro de conocerle, Elba Lazo\n"
     ]
    }
   ],
   "source": [
    "nombre = input(\"Dígame su nombre: \")\n",
    "apellido = input(f\"Dígame su apellido, {nombre}: \")\n",
    "print(f\"Me alegro de conocerle, {nombre} {apellido}\")"
   ]
  },
  {
   "cell_type": "code",
   "execution_count": 16,
   "metadata": {
    "collapsed": false
   },
   "outputs": [
    {
     "name": "stdout",
     "output_type": "stream",
     "text": [
      "Dígame un número: 10\n",
      "Dígame un número mayor que 10: 20\n",
      "La diferencia entre ellos es 10\n"
     ]
    }
   ],
   "source": [
    "numero1 = int(input(\"Dígame un número: \"))\n",
    "numero2 = int(input(f\"Dígame un número mayor que {numero1}: \"))\n",
    "print(f\"La diferencia entre ellos es {numero2 - numero1}\")"
   ]
  }
 ],
 "metadata": {
  "kernelspec": {
   "display_name": "Python 3",
   "language": "python",
   "name": "python3"
  },
  "language_info": {
   "codemirror_mode": {
    "name": "ipython",
    "version": 3
   },
   "file_extension": ".py",
   "mimetype": "text/x-python",
   "name": "python",
   "nbconvert_exporter": "python",
   "pygments_lexer": "ipython3",
   "version": "3.6.0"
  }
 },
 "nbformat": 4,
 "nbformat_minor": 2
}
